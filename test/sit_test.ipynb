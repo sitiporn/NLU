{
 "cells": [
  {
   "cell_type": "code",
   "execution_count": 27,
   "id": "modified-detroit",
   "metadata": {},
   "outputs": [],
   "source": [
    "from hey_ac import HeyAC\n",
    "import yaml"
   ]
  },
  {
   "cell_type": "code",
   "execution_count": 28,
   "id": "pharmaceutical-complaint",
   "metadata": {},
   "outputs": [],
   "source": [
    "h = HeyAC(grammar_path = '../grammars/grammar_sit.txt')"
   ]
  },
  {
   "cell_type": "code",
   "execution_count": 29,
   "id": "attempted-norway",
   "metadata": {},
   "outputs": [],
   "source": [
    "texts = [\n",
    "    'Set the humidity to 50 %',\n",
    "    'Set the temperature to 20 degrees',\n",
    "    'Set the temperature to 20',\n",
    "    'set to cool mode',\n",
    "    'set to cooling mode',\n",
    "    'set to heat mode',\n",
    "    'set to heating mode'    \n",
    "]"
   ]
  },
  {
   "cell_type": "markdown",
   "id": "owned-efficiency",
   "metadata": {},
   "source": [
    "### The key important for classifier\n",
    "- VB \n",
    "- NN_PROP\n",
    "- VBG "
   ]
  },
  {
   "cell_type": "code",
   "execution_count": 30,
   "id": "complex-customs",
   "metadata": {},
   "outputs": [],
   "source": [
    "# S  -> VP\n",
    "# VP -> VB | NP | PP \n",
    "# NP -> DT | NN_PROP\n",
    "# PP -> IN | NP \n",
    "# NP -> RB | UNIT\n",
    "\n",
    "# VB -> \"set\"\n",
    "# DT -> \"the\"\n",
    "# NN_PROP -> VOLUME | TEMPERATURE | HUMIDITY | BREEZE\n",
    "# RB -> \"too\" | \"quite\" | \"very\" | \"so\" \n",
    "# NNS -> \"degree\" | \"%\"\n",
    "\n",
    "# NP -> DT  NN_PROP IN CO NNS | DT  NN_PROP IN CO "
   ]
  },
  {
   "cell_type": "code",
   "execution_count": 31,
   "id": "backed-creek",
   "metadata": {},
   "outputs": [
    {
     "name": "stdout",
     "output_type": "stream",
     "text": [
      "==================================================\n",
      "Set the humidity to 50 %\n",
      "\n",
      "NEG: null\n",
      "NN_OBJ: null\n",
      "NN_PROP: HUMIDITY\n",
      "VALUE: null\n",
      "VBG: null\n",
      "\n",
      "==================================================\n",
      "Set the temperature to 20 degrees\n",
      "\n",
      "NEG: null\n",
      "NN_OBJ: null\n",
      "NN_PROP: TEMPERATURE\n",
      "VALUE: null\n",
      "VBG: null\n",
      "\n",
      "==================================================\n",
      "Set the temperature to 20\n",
      "\n",
      "NEG: null\n",
      "NN_OBJ: null\n",
      "NN_PROP: TEMPERATURE\n",
      "VALUE: null\n",
      "VBG: null\n",
      "\n",
      "==================================================\n",
      "set to cool mode\n",
      "\n",
      "NEG: null\n",
      "NN_OBJ: null\n",
      "NN_PROP: COOL\n",
      "VALUE: null\n",
      "VBG: null\n",
      "\n",
      "==================================================\n",
      "set to cooling mode\n",
      "\n",
      "NEG: null\n",
      "NN_OBJ: null\n",
      "NN_PROP: null\n",
      "VALUE: null\n",
      "VBG: COOLING\n",
      "\n",
      "==================================================\n",
      "set to heat mode\n",
      "\n",
      "NEG: null\n",
      "NN_OBJ: null\n",
      "NN_PROP: HEAT\n",
      "VALUE: null\n",
      "VBG: null\n",
      "\n",
      "==================================================\n",
      "set to heating mode\n",
      "\n",
      "NEG: null\n",
      "NN_OBJ: null\n",
      "NN_PROP: null\n",
      "VALUE: null\n",
      "VBG: HEATING\n",
      "\n"
     ]
    }
   ],
   "source": [
    "for text in texts:\n",
    "    print(\"=\"*50)\n",
    "    print(text)\n",
    "    print()\n",
    "    print(yaml.dump(h.prune(text)))"
   ]
  },
  {
   "cell_type": "code",
   "execution_count": 32,
   "id": "palestinian-webcam",
   "metadata": {},
   "outputs": [
    {
     "name": "stdout",
     "output_type": "stream",
     "text": [
      "==================================================\n",
      "Set the humidity to 50 %\n",
      "(S\n",
      "  (VP\n",
      "    (VB set)\n",
      "    (NP\n",
      "      (DT the)\n",
      "      (NN_PROP (HUMIDITY humidity))\n",
      "      (IN to)\n",
      "      (CO hey_num)\n",
      "      (UNIT %))))\n",
      "==================================================\n",
      "Set the temperature to 20 degrees\n",
      "(S\n",
      "  (VP\n",
      "    (VB set)\n",
      "    (NP\n",
      "      (DT the)\n",
      "      (NN_PROP (TEMPERATURE temperature))\n",
      "      (IN to)\n",
      "      (CO hey_num)\n",
      "      (UNIT degrees))))\n",
      "==================================================\n",
      "Set the temperature to 20\n",
      "(S\n",
      "  (VP\n",
      "    (VB set)\n",
      "    (NP\n",
      "      (DT the)\n",
      "      (NN_PROP (TEMPERATURE temperature))\n",
      "      (IN to)\n",
      "      (CO hey_num))))\n",
      "==================================================\n",
      "set to cool mode\n",
      "(S (VP (VB set) (IN to) (NN_PROP (COOL cool)) (MODE mode)))\n",
      "==================================================\n",
      "set to cooling mode\n",
      "(S (VP (VB set) (IN to) (VBG cooling) (MODE mode)))\n",
      "==================================================\n",
      "set to heat mode\n",
      "(S (VP (VB set) (IN to) (NN_PROP (HEAT heat)) (MODE mode)))\n",
      "==================================================\n",
      "set to heating mode\n",
      "(S (VP (VB set) (IN to) (VBG heating) (MODE mode)))\n"
     ]
    }
   ],
   "source": [
    "for text in texts:\n",
    "    print(\"=\"*50)\n",
    "    print(text)\n",
    "    print(h.parse(text)[0])"
   ]
  },
  {
   "cell_type": "code",
   "execution_count": 33,
   "id": "latin-lightweight",
   "metadata": {},
   "outputs": [],
   "source": [
    "parse_tree = h.parse(text)"
   ]
  },
  {
   "cell_type": "code",
   "execution_count": 34,
   "id": "precious-display",
   "metadata": {},
   "outputs": [
    {
     "name": "stdout",
     "output_type": "stream",
     "text": [
      "(VP (VB set) (IN to) (VBG heating) (MODE mode))\n"
     ]
    }
   ],
   "source": [
    "for t in parse_tree[0]:\n",
    "    print(t)"
   ]
  },
  {
   "cell_type": "code",
   "execution_count": 35,
   "id": "flexible-nation",
   "metadata": {},
   "outputs": [
    {
     "data": {
      "text/plain": [
       "[Tree('VP', [Tree('VB', ['set']), Tree('IN', ['to']), Tree('VBG', ['heating']), Tree('MODE', ['mode'])])]"
      ]
     },
     "execution_count": 35,
     "metadata": {},
     "output_type": "execute_result"
    }
   ],
   "source": [
    "list(parse_tree[0])"
   ]
  },
  {
   "cell_type": "code",
   "execution_count": null,
   "id": "hazardous-joyce",
   "metadata": {},
   "outputs": [],
   "source": []
  }
 ],
 "metadata": {
  "kernelspec": {
   "display_name": "Python 3",
   "language": "python",
   "name": "python3"
  },
  "language_info": {
   "codemirror_mode": {
    "name": "ipython",
    "version": 3
   },
   "file_extension": ".py",
   "mimetype": "text/x-python",
   "name": "python",
   "nbconvert_exporter": "python",
   "pygments_lexer": "ipython3",
   "version": "3.6.9"
  }
 },
 "nbformat": 4,
 "nbformat_minor": 5
}
