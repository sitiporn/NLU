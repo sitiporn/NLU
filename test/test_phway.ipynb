{
 "cells": [
  {
   "cell_type": "code",
   "execution_count": 1,
   "metadata": {},
   "outputs": [],
   "source": [
    "from hey_ac import HeyAC\n",
    "import yaml"
   ]
  },
  {
   "cell_type": "code",
   "execution_count": 2,
   "metadata": {},
   "outputs": [],
   "source": [
    "h = HeyAC(grammar_path = '../grammars/grammar_phway.txt')"
   ]
  },
  {
   "cell_type": "code",
   "execution_count": 3,
   "metadata": {},
   "outputs": [],
   "source": [
    "texts = [\n",
    "    'It is freezing',\n",
    "    'It is dry in here',\n",
    "    'It is hot in here',\n",
    "    'It is too cold',\n",
    "    'It is too hot',\n",
    "    'It is warm',\n",
    "    'I am feeling cold',\n",
    "    'I am freezing',\n",
    "    'It is not cold enough'\n",
    "]"
   ]
  },
  {
   "cell_type": "code",
   "execution_count": 4,
   "metadata": {},
   "outputs": [
    {
     "name": "stdout",
     "output_type": "stream",
     "text": [
      "==================================================\n",
      "It is freezing\n",
      "\n",
      "[WARNING] More than a single parse detected\n",
      "ACT: null\n",
      "CO: null\n",
      "DIR: null\n",
      "NEG: null\n",
      "NN_OBJ: AC\n",
      "NN_PROP: null\n",
      "VALUE: COLD\n",
      "VBG: null\n",
      "\n",
      "==================================================\n",
      "It is dry in here\n",
      "\n",
      "[WARNING] More than a single parse detected\n",
      "ACT: null\n",
      "CO: null\n",
      "DIR: null\n",
      "NEG: null\n",
      "NN_OBJ: AC\n",
      "NN_PROP: null\n",
      "VALUE: DRY\n",
      "VBG: null\n",
      "\n",
      "==================================================\n",
      "It is hot in here\n",
      "\n",
      "ACT: null\n",
      "CO: null\n",
      "DIR: null\n",
      "NEG: null\n",
      "NN_OBJ: AC\n",
      "NN_PROP: null\n",
      "VALUE: HOT\n",
      "VBG: null\n",
      "\n",
      "==================================================\n",
      "It is too cold\n",
      "\n",
      "[WARNING] More than a single parse detected\n",
      "ACT: null\n",
      "CO: null\n",
      "DIR: null\n",
      "NEG: null\n",
      "NN_OBJ: AC\n",
      "NN_PROP: null\n",
      "VALUE: COLD\n",
      "VBG: null\n",
      "\n",
      "==================================================\n",
      "It is too hot\n",
      "\n",
      "[WARNING] More than a single parse detected\n",
      "ACT: null\n",
      "CO: null\n",
      "DIR: null\n",
      "NEG: null\n",
      "NN_OBJ: AC\n",
      "NN_PROP: null\n",
      "VALUE: HOT\n",
      "VBG: null\n",
      "\n",
      "==================================================\n",
      "It is warm\n",
      "\n",
      "ACT: null\n",
      "CO: null\n",
      "DIR: null\n",
      "NEG: null\n",
      "NN_OBJ: AC\n",
      "NN_PROP: null\n",
      "VALUE: HOT\n",
      "VBG: null\n",
      "\n",
      "==================================================\n",
      "I am feeling cold\n",
      "\n",
      "ACT: null\n",
      "CO: null\n",
      "DIR: null\n",
      "NEG: null\n",
      "NN_OBJ: null\n",
      "NN_PROP: null\n",
      "VALUE: COLD\n",
      "VBG: FEELING\n",
      "\n",
      "==================================================\n",
      "I am freezing\n",
      "\n",
      "[WARNING] More than a single parse detected\n",
      "ACT: null\n",
      "CO: null\n",
      "DIR: null\n",
      "NEG: null\n",
      "NN_OBJ: null\n",
      "NN_PROP: null\n",
      "VALUE: COLD\n",
      "VBG: null\n",
      "\n",
      "==================================================\n",
      "It is not cold enough\n",
      "\n",
      "[WARNING] More than a single parse detected\n",
      "ACT: null\n",
      "CO: null\n",
      "DIR: null\n",
      "NEG: NOT\n",
      "NN_OBJ: AC\n",
      "NN_PROP: null\n",
      "VALUE: COLD\n",
      "VBG: null\n",
      "\n"
     ]
    }
   ],
   "source": [
    "for text in texts:\n",
    "    print(\"=\"*50)\n",
    "    print(text)\n",
    "    print()\n",
    "    print(yaml.dump(h.prune(text)))"
   ]
  },
  {
   "cell_type": "code",
   "execution_count": 5,
   "metadata": {},
   "outputs": [
    {
     "name": "stdout",
     "output_type": "stream",
     "text": [
      "==================================================\n",
      "It is freezing\n",
      "(S\n",
      "  (NP (OBJECT (NN_OBJ (AC it))))\n",
      "  (VP (VBZ (BE is)) (ADJP (VALUE (COLD freezing)))))\n",
      "==================================================\n",
      "It is dry in here\n",
      "(S\n",
      "  (NP (OBJECT (NN_OBJ (AC it))))\n",
      "  (VP\n",
      "    (VBZ (BE is))\n",
      "    (ADJP (VALUE (DRY dry)) (PP (IN in) (ADVP (ENVIRONMENT here))))))\n",
      "==================================================\n",
      "It is hot in here\n",
      "(S\n",
      "  (NP (OBJECT (NN_OBJ (AC it))))\n",
      "  (VP\n",
      "    (VBZ (BE is))\n",
      "    (ADJP (VALUE (HOT hot)) (PP (IN in) (ADVP (ENVIRONMENT here))))))\n",
      "==================================================\n",
      "It is too cold\n",
      "(S\n",
      "  (NP (OBJECT (NN_OBJ (AC it))))\n",
      "  (VP (VBZ (BE is)) (ADJP (RB too) (VALUE (COLD cold)))))\n",
      "==================================================\n",
      "It is too hot\n",
      "(S\n",
      "  (NP (OBJECT (NN_OBJ (AC it))))\n",
      "  (VP (VBZ (BE is)) (ADJP (RB too) (VALUE (HOT hot)))))\n",
      "==================================================\n",
      "It is warm\n",
      "(S\n",
      "  (NP (OBJECT (NN_OBJ (AC it))))\n",
      "  (VP (VBZ (BE is)) (ADJP (VALUE (HOT warm)))))\n",
      "==================================================\n",
      "I am feeling cold\n",
      "(S\n",
      "  (NP (OBJECT (USER i)))\n",
      "  (VP (VBZ (BE am)) (VBG feeling) (ADJP (VALUE (COLD cold)))))\n",
      "==================================================\n",
      "I am freezing\n",
      "(S\n",
      "  (NP (OBJECT (USER i)))\n",
      "  (VP (VBZ (BE am)) (ADJP (VALUE (COLD freezing)))))\n",
      "==================================================\n",
      "It is not cold enough\n",
      "(S\n",
      "  (NP (OBJECT (NN_OBJ (AC it))))\n",
      "  (VP\n",
      "    (VBZ (BE is))\n",
      "    (NEG not)\n",
      "    (ADJP (VALUE (COLD cold)) (PP (ADVP (RB enough))))))\n"
     ]
    }
   ],
   "source": [
    "for text in texts:\n",
    "    print(\"=\"*50)\n",
    "    print(text)\n",
    "    print(h.parse(text)[0])"
   ]
  },
  {
   "cell_type": "code",
   "execution_count": 6,
   "metadata": {},
   "outputs": [],
   "source": [
    "parse_tree = h.parse(text)"
   ]
  },
  {
   "cell_type": "code",
   "execution_count": 7,
   "metadata": {},
   "outputs": [
    {
     "name": "stdout",
     "output_type": "stream",
     "text": [
      "(NP (OBJECT (NN_OBJ (AC it))))\n",
      "(VP\n",
      "  (VBZ (BE is))\n",
      "  (NEG not)\n",
      "  (ADJP (VALUE (COLD cold)) (PP (ADVP (RB enough)))))\n"
     ]
    }
   ],
   "source": [
    "for t in parse_tree[0]:\n",
    "    print(t)"
   ]
  },
  {
   "cell_type": "code",
   "execution_count": 8,
   "metadata": {},
   "outputs": [
    {
     "data": {
      "text/plain": [
       "[Tree('NP', [Tree('OBJECT', [Tree('NN_OBJ', [Tree('AC', ['it'])])])]),\n",
       " Tree('VP', [Tree('VBZ', [Tree('BE', ['is'])]), Tree('NEG', ['not']), Tree('ADJP', [Tree('VALUE', [Tree('COLD', ['cold'])]), Tree('PP', [Tree('ADVP', [Tree('RB', ['enough'])])])])])]"
      ]
     },
     "execution_count": 8,
     "metadata": {},
     "output_type": "execute_result"
    }
   ],
   "source": [
    "list(parse_tree[0])"
   ]
  },
  {
   "cell_type": "code",
   "execution_count": null,
   "metadata": {},
   "outputs": [],
   "source": []
  }
 ],
 "metadata": {
  "kernelspec": {
   "display_name": "Python 3",
   "language": "python",
   "name": "python3"
  },
  "language_info": {
   "codemirror_mode": {
    "name": "ipython",
    "version": 3
   },
   "file_extension": ".py",
   "mimetype": "text/x-python",
   "name": "python",
   "nbconvert_exporter": "python",
   "pygments_lexer": "ipython3",
   "version": "3.8.3"
  }
 },
 "nbformat": 4,
 "nbformat_minor": 5
}
